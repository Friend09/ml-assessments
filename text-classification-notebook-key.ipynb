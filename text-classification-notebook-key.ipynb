{
 "cells": [
  {
   "cell_type": "markdown",
   "metadata": {},
   "source": [
    "# Text Classification Assessment (Key)\n",
    "\n",
    "## Objective\n",
    "Classify customer reviews into positive or negative sentiment."
   ]
  },
  {
   "cell_type": "markdown",
   "metadata": {},
   "source": [
    "## 1. Data Loading and Preprocessing"
   ]
  },
  {
   "cell_type": "code",
   "execution_count": null,
   "metadata": {},
   "outputs": [],
   "source": [
    "# Import necessary libraries\n",
    "import pandas as pd\n",
    "import numpy as np\n",
    "from sklearn.model_selection import train_test_split\n",
    "\n",
    "# Load the dataset\n",
    "df = pd.read_csv('customer_reviews.csv')\n",
    "\n",
    "# Create binary target variable\n",
    "df['sentiment'] = (df['rating'] >= 4).astype(int)\n",
    "\n",
    "# Split the data into training and testing sets\n",
    "X_train, X_test, y_train, y_test = train_test_split(df['review_text'], df['sentiment'], test_size=0.2, random_state=42)"
   ]
  },
  {
   "cell_type": "markdown",
   "metadata": {},
   "source": [
    "## 2. Exploratory Data Analysis"
   ]
  },
  {
   "cell_type": "code",
   "execution_count": null,
   "metadata": {},
   "outputs": [],
   "source": [
    "# Display the first few rows of the dataset\n",
    "print(df.head())\n",
    "\n",
    "# Show the distribution of positive and negative reviews\n",
    "print(df['sentiment'].value_counts(normalize=True))\n",
    "\n",
    "# Calculate and display the average length of reviews for each class\n",
    "df['review_length'] = df['review_text'].str.len()\n",
    "print(df.groupby('sentiment')['review_length'].mean())"
   ]
  },
  {
   "cell_type": "markdown",
   "metadata": {},
   "source": [
    "## 3. Feature Engineering"
   ]
  },
  {
   "cell_type": "code",
   "execution_count": null,
   "metadata": {},
   "outputs": [],
   "source": [
    "from sklearn.feature_extraction.text import TfidfVectorizer\n",
    "\n",
    "# Use TfidfVectorizer\n",
    "vectorizer = TfidfVectorizer(stop_words='english', max_features=5000)\n",
    "X_train_vectorized = vectorizer.fit_transform(X_train)\n",
    "X_test_vectorized = vectorizer.transform(X_test)\n",
    "\n",
    "# Explanation\n",
    "'''\n",
    "I chose TfidfVectorizer over CountVectorizer because it not only considers the frequency of words \n",
    "but also their importance in the corpus. This can help in giving less weight to common words \n",
    "that appear in many documents but may not be as informative for classification.\n",
    "'''"
   ]
  },
  {
   "cell_type": "markdown",
   "metadata": {},
   "source": [
    "## 4. Model Selection and Training"
   ]
  },
  {
   "cell_type": "code",
   "execution_count": null,
   "metadata": {},
   "outputs": [],
   "source": [
    "from sklearn.linear_model import LogisticRegression\n",
    "\n",
    "# Choose and train the model\n",
    "model = LogisticRegression(random_state=42)\n",
    "model.fit(X_train_vectorized, y_train)\n",
    "\n",
    "# Explanation\n",
    "'''\n",
    "I chose Logistic Regression because:\n",
    "1. It's suitable for binary classification problems like sentiment analysis.\n",
    "2. It's relatively simple and interpretable.\n",
    "3. It often performs well on text classification tasks, especially with high-dimensional data.\n",
    "4. It's computationally efficient for both training and prediction.\n",
    "'''"
   ]
  },
  {
   "cell_type": "markdown",
   "metadata": {},
   "source": [
    "## 5. Making Predictions"
   ]
  },
  {
   "cell_type": "code",
   "execution_count": null,
   "metadata": {},
   "outputs": [],
   "source": [
    "from sklearn.metrics import accuracy_score\n",
    "\n",
    "# Make predictions on the test set\n",
    "y_pred = model.predict(X_test_vectorized)\n",
    "\n",
    "# Calculate and display the accuracy score\n",
    "accuracy = accuracy_score(y_test, y_pred)\n",
    "print(f'Accuracy: {accuracy:.2f}')\n",
    "\n",
    "# Print a few example predictions along with their actual labels\n",
    "for i in range(5):\n",
    "    print(f'Review: {X_test.iloc[i]}')\n",
    "    print(f'Actual sentiment: {y_test.iloc[i]}')\n",
    "    print(f'Predicted sentiment: {y_pred[i]}\\n')"
   ]
  }
 ],
 "metadata": {
  "kernelspec": {
   "display_name": "Python 3",
   "language": "python",
   "name": "python3"
  },
  "language_info": {
   "codemirror_mode": {
    "name": "ipython",
    "version": 3
   },
   "file_extension": ".py",
   "mimetype": "text/x-python",
   "name": "python",
   "nbconvert_exporter": "python",
   "pygments_lexer": "ipython3",
   "version": "3.8.8"
  }
 },
 "nbformat": 4,
 "nbformat_minor": 4
}
